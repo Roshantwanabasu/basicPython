{
 "cells": [
  {
   "cell_type": "markdown",
   "metadata": {},
   "source": [
    "### 1. What is data science?"
   ]
  },
  {
   "cell_type": "markdown",
   "metadata": {},
   "source": [
    "Data science, also known as data-driven science, is an interdisciplinary field of scientific methods, processes, algorithms and systems to extract knowledge or insights from data in various forms, either structured or unstructured, similar to data mining."
   ]
  },
  {
   "cell_type": "markdown",
   "metadata": {},
   "source": [
    "### 2.What is the data in a scientific experiment?"
   ]
  },
  {
   "cell_type": "markdown",
   "metadata": {},
   "source": [
    "Data are the information gained from observing and testing an experiment. Scientists use data to gain understanding and make conclusions. Scientists often use graphs or tables to show their data and research findings. To learn more about how scientists collect and use data, check out our Data Domain."
   ]
  },
  {
   "cell_type": "markdown",
   "metadata": {},
   "source": [
    "### 3. What is the data science process?"
   ]
  },
  {
   "cell_type": "markdown",
   "metadata": {},
   "source": [
    "Data science lifecycle. The Team Data Science Process (TDSP) provides a lifecycle to structure the development of your data science projects. The lifecycle outlines the steps, from start to finish, that projects usually follow when they are executed.\n",
    "\n",
    "TDSP comprises of the following key components:\n",
    "\n",
    "    A data science lifecycle definition\n",
    "    A standardized project structure\n",
    "    Infrastructure and resources for data science projects\n",
    "    Tools and utilities for project execution\n",
    "    \n",
    "\n",
    "* **Reference Link:** https://docs.microsoft.com/en-us/azure/machine-learning/team-data-science-process/overview\n"
   ]
  },
  {
   "cell_type": "markdown",
   "metadata": {},
   "source": [
    "### 4. What is the definition of scientific data?"
   ]
  },
  {
   "cell_type": "markdown",
   "metadata": {},
   "source": [
    "Scientific data is defined as information collected using specific methods for a specific purpose of studying or analyzing. Data collected in a lab experiment done under controlled conditions is an example of scientific data.YourDictionary definition and usage example.\n",
    "\n",
    "* **Reference Link:** http://www.yourdictionary.com/scientific-data"
   ]
  },
  {
   "cell_type": "markdown",
   "metadata": {},
   "source": [
    "### 5. What is big data and data science?"
   ]
  },
  {
   "cell_type": "markdown",
   "metadata": {},
   "source": [
    "Data Science: Dealing with unstructured and structured data, Data Science is a field that comprises of everything that related to data cleansing, preparation, and analysis. Big Data: Big Data refers to humongous volumes of data that cannot be processed effectively with the traditional applications that exist.\n",
    "\n",
    "* **Reference Link:** https://www.quora.com/What-is-difference-between-Data-Science-and-Big-Data    "
   ]
  },
  {
   "cell_type": "markdown",
   "metadata": {},
   "source": [
    "### 6. How is data analyzed?\n",
    "\n",
    "Data analysis, also known as analysis of data or data analytics, is a process of inspecting, cleansing, transforming, and modeling data with the goal of discovering useful information, suggesting conclusions, and supporting decision-making.\n",
    "\n",
    "* ** Reference Link ** https://en.wikipedia.org/wiki/Data_analysis"
   ]
  },
  {
   "cell_type": "markdown",
   "metadata": {},
   "source": [
    "### 7. What is a data scientist salary?\n",
    "\n",
    "The national average salary for a Data Scientist is $120,931 in United States. Filter by location to see Data Scientist salaries in your area. Salary estimates are based on 2,951 salaries submitted anonymously to Glassdoor by Data Scientist employees.\n",
    "\n",
    "* **Reference Link ** https://www.glassdoor.com/Salaries/data-scientist-salary-SRCH_KO0,14.htm"
   ]
  },
  {
   "cell_type": "markdown",
   "metadata": {},
   "source": [
    "### 8. What skills do you need to be a data scientist?\n",
    "\n",
    "Non-Technical Skills\n",
    "\n",
    "* Non Technical Skill*\n",
    "Education. Burtch provides some numbers related to the educational level of data scientists, indicating that 88% of Data Scientists have, at minimum, a Master's degree. ...\n",
    "    Intellectual Curiosity. ...\n",
    "    Domain Knowledge/Business Acumen. ...\n",
    "    Communication Skills. ...\n",
    "    Career Mapping/Goals.\n",
    "    linear Algebra\n",
    "    Statistic and probability\n",
    "    \n",
    "* Main Tecnical Skill\n",
    "  \n",
    "  Python,  Java,  Excel,  Matlab  \n",
    "  \n",
    "  \n",
    "* **Reference Link ** https://www.kdnuggets.com/2016/05/10-must-have-skills-data-scientist.html"
   ]
  },
  {
   "cell_type": "markdown",
   "metadata": {},
   "source": [
    "### 9. What is a data science course here?\n",
    "\n",
    "Data Manipulation. Data Analysis with Statistics and Machine Learning. Data Communication with Information Visualization.\n",
    "\n",
    "Main topics\n",
    "- numpy\n",
    "- panda \n",
    "- matplotlib\n",
    "- sklern\n"
   ]
  },
  {
   "cell_type": "markdown",
   "metadata": {},
   "source": [
    "### 10 How do I get a data science job?\n",
    "\n",
    "Take a free online class. Free online courses from top universities or top subject-matter experts are available via sites such as Coursera, datacamp and others\n",
    "    - more practice Practice. ...\n",
    "    - Join a LinkedIn group. ...\n",
    "    - Get to know working data scientists. ...\n",
    "    - Consider moving.\n",
    "    - participate kaggle data scientists competition "
   ]
  },
  {
   "cell_type": "code",
   "execution_count": null,
   "metadata": {
    "collapsed": true
   },
   "outputs": [],
   "source": []
  }
 ],
 "metadata": {
  "kernelspec": {
   "display_name": "Python 3",
   "language": "python",
   "name": "python3"
  },
  "language_info": {
   "codemirror_mode": {
    "name": "ipython",
    "version": 3
   },
   "file_extension": ".py",
   "mimetype": "text/x-python",
   "name": "python",
   "nbconvert_exporter": "python",
   "pygments_lexer": "ipython3",
   "version": "3.6.7"
  }
 },
 "nbformat": 4,
 "nbformat_minor": 1
}
